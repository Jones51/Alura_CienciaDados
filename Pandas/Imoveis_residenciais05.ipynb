{
 "cells": [
  {
   "attachments": {},
   "cell_type": "markdown",
   "metadata": {},
   "source": [
    "## Relatorio de Vendas 05"
   ]
  },
  {
   "cell_type": "code",
   "execution_count": 4,
   "metadata": {},
   "outputs": [],
   "source": [
    "import pandas as pd"
   ]
  },
  {
   "cell_type": "code",
   "execution_count": 5,
   "metadata": {},
   "outputs": [],
   "source": [
    "dados = pd.read_csv('dados\\\\aluguel_2.csv', sep=';')"
   ]
  },
  {
   "cell_type": "code",
   "execution_count": 6,
   "metadata": {},
   "outputs": [
    {
     "data": {
      "text/html": [
       "<div>\n",
       "<style scoped>\n",
       "    .dataframe tbody tr th:only-of-type {\n",
       "        vertical-align: middle;\n",
       "    }\n",
       "\n",
       "    .dataframe tbody tr th {\n",
       "        vertical-align: top;\n",
       "    }\n",
       "\n",
       "    .dataframe thead th {\n",
       "        text-align: right;\n",
       "    }\n",
       "</style>\n",
       "<table border=\"1\" class=\"dataframe\">\n",
       "  <thead>\n",
       "    <tr style=\"text-align: right;\">\n",
       "      <th></th>\n",
       "      <th>Tipo</th>\n",
       "      <th>Bairro</th>\n",
       "      <th>Quartos</th>\n",
       "      <th>Vagas</th>\n",
       "      <th>Suites</th>\n",
       "      <th>Area</th>\n",
       "      <th>Valor</th>\n",
       "      <th>Condominio</th>\n",
       "      <th>IPTU</th>\n",
       "      <th>m2</th>\n",
       "      <th>Tipo Agregado</th>\n",
       "    </tr>\n",
       "  </thead>\n",
       "  <tbody>\n",
       "    <tr>\n",
       "      <th>0</th>\n",
       "      <td>Quitinete</td>\n",
       "      <td>Copacabana</td>\n",
       "      <td>1</td>\n",
       "      <td>0</td>\n",
       "      <td>0</td>\n",
       "      <td>40</td>\n",
       "      <td>1700.0</td>\n",
       "      <td>500.0</td>\n",
       "      <td>60.0</td>\n",
       "      <td>42.50</td>\n",
       "      <td>Apartamento</td>\n",
       "    </tr>\n",
       "    <tr>\n",
       "      <th>1</th>\n",
       "      <td>Casa</td>\n",
       "      <td>Jardim Botânico</td>\n",
       "      <td>2</td>\n",
       "      <td>0</td>\n",
       "      <td>1</td>\n",
       "      <td>100</td>\n",
       "      <td>7000.0</td>\n",
       "      <td>NaN</td>\n",
       "      <td>NaN</td>\n",
       "      <td>70.00</td>\n",
       "      <td>Casa</td>\n",
       "    </tr>\n",
       "    <tr>\n",
       "      <th>2</th>\n",
       "      <td>Conjunto Comercial/Sala</td>\n",
       "      <td>Barra da Tijuca</td>\n",
       "      <td>0</td>\n",
       "      <td>4</td>\n",
       "      <td>0</td>\n",
       "      <td>150</td>\n",
       "      <td>5200.0</td>\n",
       "      <td>4020.0</td>\n",
       "      <td>1111.0</td>\n",
       "      <td>34.67</td>\n",
       "      <td>Apartamento</td>\n",
       "    </tr>\n",
       "    <tr>\n",
       "      <th>3</th>\n",
       "      <td>Apartamento</td>\n",
       "      <td>Centro</td>\n",
       "      <td>1</td>\n",
       "      <td>0</td>\n",
       "      <td>0</td>\n",
       "      <td>15</td>\n",
       "      <td>800.0</td>\n",
       "      <td>390.0</td>\n",
       "      <td>20.0</td>\n",
       "      <td>53.33</td>\n",
       "      <td>Apartamento</td>\n",
       "    </tr>\n",
       "    <tr>\n",
       "      <th>4</th>\n",
       "      <td>Apartamento</td>\n",
       "      <td>Higienópolis</td>\n",
       "      <td>1</td>\n",
       "      <td>0</td>\n",
       "      <td>0</td>\n",
       "      <td>48</td>\n",
       "      <td>800.0</td>\n",
       "      <td>230.0</td>\n",
       "      <td>NaN</td>\n",
       "      <td>16.67</td>\n",
       "      <td>Apartamento</td>\n",
       "    </tr>\n",
       "  </tbody>\n",
       "</table>\n",
       "</div>"
      ],
      "text/plain": [
       "                      Tipo           Bairro  Quartos  Vagas  Suites  Area  \\\n",
       "0                Quitinete       Copacabana        1      0       0    40   \n",
       "1                     Casa  Jardim Botânico        2      0       1   100   \n",
       "2  Conjunto Comercial/Sala  Barra da Tijuca        0      4       0   150   \n",
       "3              Apartamento           Centro        1      0       0    15   \n",
       "4              Apartamento     Higienópolis        1      0       0    48   \n",
       "\n",
       "    Valor  Condominio    IPTU     m2 Tipo Agregado  \n",
       "0  1700.0       500.0    60.0  42.50   Apartamento  \n",
       "1  7000.0         NaN     NaN  70.00          Casa  \n",
       "2  5200.0      4020.0  1111.0  34.67   Apartamento  \n",
       "3   800.0       390.0    20.0  53.33   Apartamento  \n",
       "4   800.0       230.0     NaN  16.67   Apartamento  "
      ]
     },
     "execution_count": 6,
     "metadata": {},
     "output_type": "execute_result"
    }
   ],
   "source": [
    "dados.head(5)"
   ]
  },
  {
   "cell_type": "code",
   "execution_count": 7,
   "metadata": {},
   "outputs": [
    {
     "data": {
      "text/plain": [
       "array(['Copacabana', 'Jardim Botânico', 'Barra da Tijuca', 'Centro',\n",
       "       'Higienópolis', 'Vista Alegre', 'Cachambi', 'Ramos', 'Grajaú',\n",
       "       'Lins de Vasconcelos', 'Botafogo', 'Taquara',\n",
       "       'Freguesia (Jacarepaguá)', 'Tijuca', 'Olaria', 'Leblon',\n",
       "       'São Cristóvão', 'Ipanema', 'Campo Grande',\n",
       "       'Recreio dos Bandeirantes', 'Jardim Oceânico', 'Humaitá',\n",
       "       'Península', 'Méier', 'Vargem Pequena', 'Maracanã', 'Jacarepaguá',\n",
       "       'Vargem Grande', 'São Conrado', 'Maria da Graça', 'Vila Valqueire',\n",
       "       'Gávea', 'Cosme Velho', 'Bonsucesso', 'Todos os Santos',\n",
       "       'Laranjeiras', 'Itanhangá', 'Flamengo', 'Praça Seca', 'Piedade',\n",
       "       'Lagoa', 'Santo Cristo', 'Largo do Machado', 'Catete',\n",
       "       'Jardim Carioca', 'Benfica', 'Glória', 'Vila Isabel',\n",
       "       'Quintino Bocaiúva', 'São Francisco Xavier', 'Rocha Miranda',\n",
       "       'Engenho Novo', 'Engenho de Dentro', 'Cidade Nova', 'Pilares',\n",
       "       'Arpoador', 'Tomás Coelho', 'Água Santa', 'Ilha do Governador',\n",
       "       'Jardim Sulacap', 'Del Castilho', 'Oswaldo Cruz', 'Vila da Penha',\n",
       "       'Anil', 'Tanque', 'Vaz Lobo', 'Madureira', 'Pechincha', 'Leme',\n",
       "       'Irajá', 'Andaraí', 'Cordovil', 'Urca', 'Penha', 'Vigário Geral',\n",
       "       'Gardênia Azul', 'Santa Cruz', 'Rio Comprido', 'Santa Teresa',\n",
       "       'Inhaúma', 'Marechal Hermes', 'Pavuna', 'Curicica', 'Santíssimo',\n",
       "       'Moneró', 'Jardim Guanabara', 'Vila Militar', 'Camorim',\n",
       "       'Cascadura', 'Manguinhos', 'Praia da Bandeira', 'Saúde', 'Joá',\n",
       "       'Gamboa', 'Bangu', 'Colégio', 'Guadalupe', 'Realengo', 'Fátima',\n",
       "       'Inhoaíba', 'Rocha', 'Jabour', 'Parada de Lucas', 'Braz de Pina',\n",
       "       'Vila Kosmos', 'Vicente de Carvalho', 'Praça da Bandeira',\n",
       "       'Encantado', 'Campinho', 'Penha Circular',\n",
       "       'Ricardo de Albuquerque', 'Guaratiba', 'Lapa', 'Riachuelo',\n",
       "       'Portuguesa', 'Catumbi', 'Castelo', 'Parque Anchieta', 'Abolição',\n",
       "       'Caju', 'Alto da Boa Vista', 'Bento Ribeiro', 'Estácio',\n",
       "       'Jardim América', 'Paciência', 'Pedra de Guaratiba',\n",
       "       'Padre Miguel', 'Zumbi', 'Sampaio', 'Anchieta', 'Tauá', 'Icaraí',\n",
       "       'Cinelândia', 'Senador Vasconcelos', 'Barra de Guaratiba',\n",
       "       'Paquetá', 'Senador Camará', 'Turiaçu',\n",
       "       'Freguesia (Ilha do Governador)', 'Honório Gurgel', 'Cosmos',\n",
       "       'Pitangueiras', 'Vidigal', 'Usina', 'Cacuia', 'Ribeira', 'Jacaré',\n",
       "       'Cocotá', 'Engenho da Rainha', 'Cachamorra', 'Itaguaí',\n",
       "       'Cavalcanti', 'Cidade de Deus', 'Magalhães Bastos', 'Coelho Neto',\n",
       "       'Vasco da Gama', 'Bancários', 'Rio da Prata', 'Cidade Jardim',\n",
       "       'Parque Colúmbia', 'Grumari', 'Sepetiba'], dtype=object)"
      ]
     },
     "execution_count": 7,
     "metadata": {},
     "output_type": "execute_result"
    }
   ],
   "source": [
    "dados['Bairro'].unique()"
   ]
  },
  {
   "cell_type": "code",
   "execution_count": 8,
   "metadata": {},
   "outputs": [],
   "source": [
    "bairros = ['Copacabana', 'Centro', 'Higienópol','Cascadura', 'Manguinhos', 'Praia da Bandeira', 'Saúde', 'Joá']"
   ]
  },
  {
   "cell_type": "code",
   "execution_count": 9,
   "metadata": {},
   "outputs": [],
   "source": [
    "selecao = dados['Bairro'].isin(bairros)\n",
    "dados = dados[selecao]"
   ]
  },
  {
   "cell_type": "code",
   "execution_count": 10,
   "metadata": {},
   "outputs": [
    {
     "data": {
      "text/plain": [
       "array(['Copacabana', 'Centro', 'Cascadura', 'Manguinhos',\n",
       "       'Praia da Bandeira', 'Saúde', 'Joá'], dtype=object)"
      ]
     },
     "execution_count": 10,
     "metadata": {},
     "output_type": "execute_result"
    }
   ],
   "source": [
    "dados['Bairro'].unique()"
   ]
  },
  {
   "cell_type": "code",
   "execution_count": 11,
   "metadata": {},
   "outputs": [],
   "source": [
    "grupo_bairro = dados.groupby('Bairro')"
   ]
  },
  {
   "cell_type": "code",
   "execution_count": 12,
   "metadata": {},
   "outputs": [
    {
     "data": {
      "text/plain": [
       "pandas.core.groupby.generic.DataFrameGroupBy"
      ]
     },
     "execution_count": 12,
     "metadata": {},
     "output_type": "execute_result"
    }
   ],
   "source": [
    "type(grupo_bairro)"
   ]
  },
  {
   "cell_type": "code",
   "execution_count": 13,
   "metadata": {},
   "outputs": [
    {
     "data": {
      "text/plain": [
       "{'Cascadura': [828, 1316, 2439, 2555, 2897, 5505, 6812, 8941, 9677, 10188, 11143, 13077, 13890, 14202, 14281, 15649, 16097, 16533, 17276, 17965, 18049, 18275, 18397, 18656, 19341, 22593, 23563, 24265, 24274, 24334, 24639, 25316, 25843, 26629, 26808, 27871, 29361, 29656, 29661, 30324, 30390, 30658, 32809, 32852], 'Centro': [3, 9, 10, 38, 45, 46, 52, 54, 72, 86, 87, 94, 100, 105, 108, 127, 128, 136, 144, 161, 174, 178, 186, 220, 239, 240, 241, 242, 252, 270, 278, 284, 286, 307, 319, 328, 333, 337, 338, 356, 373, 379, 380, 382, 393, 394, 404, 417, 437, 445, 454, 457, 462, 472, 478, 480, 500, 533, 562, 567, 579, 638, 657, 659, 683, 690, 693, 706, 712, 749, 752, 771, 790, 793, 803, 824, 852, 853, 859, 873, 879, 880, 903, 911, 922, 924, 930, 947, 950, 970, 972, 974, 976, 986, 990, 993, 995, 997, 1006, 1012, ...], 'Copacabana': [0, 13, 14, 15, 33, 34, 39, 43, 58, 123, 132, 152, 162, 189, 196, 209, 210, 213, 215, 219, 226, 243, 250, 262, 273, 285, 290, 303, 329, 371, 398, 418, 421, 426, 438, 439, 453, 464, 479, 484, 486, 496, 501, 525, 541, 553, 563, 564, 582, 596, 608, 636, 637, 644, 650, 653, 679, 682, 692, 724, 725, 726, 727, 742, 753, 791, 794, 799, 823, 837, 857, 858, 866, 875, 882, 885, 913, 917, 919, 925, 952, 954, 981, 1000, 1008, 1009, 1014, 1025, 1038, 1041, 1047, 1057, 1074, 1100, 1110, 1115, 1158, 1167, 1203, 1218, ...], 'Joá': [916, 3180, 3790, 7902, 9326, 9798, 10389, 11801, 13238, 17687, 18050, 18377, 18413, 18417, 19654, 20499, 22471, 24837, 25075, 25618, 25970, 27650, 27733, 29390, 31296], 'Manguinhos': [835, 5391, 6907, 7813, 8226, 9715, 18430, 27032], 'Praia da Bandeira': [842, 9945], 'Saúde': [868, 3077, 5521, 7803, 7877, 11881, 12201, 12841, 13364, 17071, 17166, 20090, 20220, 22026, 23893, 24425, 25199, 25433, 25927, 26696, 26702, 26850, 27488, 27653, 30283, 30613]}"
      ]
     },
     "execution_count": 13,
     "metadata": {},
     "output_type": "execute_result"
    }
   ],
   "source": [
    "grupo_bairro.groups"
   ]
  },
  {
   "cell_type": "code",
   "execution_count": 14,
   "metadata": {},
   "outputs": [
    {
     "name": "stdout",
     "output_type": "stream",
     "text": [
      "Cascadura -> 1133.1818181818182\n",
      "Centro -> 19004.972375690606\n",
      "Copacabana -> 4509.83453689168\n",
      "Joá -> 16351.6\n",
      "Manguinhos -> 7312.5\n",
      "Praia da Bandeira -> 1300.0\n",
      "Saúde -> 36083.61538461538\n"
     ]
    }
   ],
   "source": [
    "for bairro, data in grupo_bairro:\n",
    "    print('{} -> {}'.format(bairro, data.Valor.mean()))"
   ]
  },
  {
   "cell_type": "code",
   "execution_count": 15,
   "metadata": {},
   "outputs": [
    {
     "data": {
      "text/html": [
       "<div>\n",
       "<style scoped>\n",
       "    .dataframe tbody tr th:only-of-type {\n",
       "        vertical-align: middle;\n",
       "    }\n",
       "\n",
       "    .dataframe tbody tr th {\n",
       "        vertical-align: top;\n",
       "    }\n",
       "\n",
       "    .dataframe thead th {\n",
       "        text-align: right;\n",
       "    }\n",
       "</style>\n",
       "<table border=\"1\" class=\"dataframe\">\n",
       "  <thead>\n",
       "    <tr style=\"text-align: right;\">\n",
       "      <th></th>\n",
       "      <th>Valor</th>\n",
       "      <th>Condominio</th>\n",
       "    </tr>\n",
       "    <tr>\n",
       "      <th>Bairro</th>\n",
       "      <th></th>\n",
       "      <th></th>\n",
       "    </tr>\n",
       "  </thead>\n",
       "  <tbody>\n",
       "    <tr>\n",
       "      <th>Cascadura</th>\n",
       "      <td>1133.18</td>\n",
       "      <td>307.91</td>\n",
       "    </tr>\n",
       "    <tr>\n",
       "      <th>Centro</th>\n",
       "      <td>19004.97</td>\n",
       "      <td>5247.40</td>\n",
       "    </tr>\n",
       "    <tr>\n",
       "      <th>Copacabana</th>\n",
       "      <td>4509.83</td>\n",
       "      <td>1211.94</td>\n",
       "    </tr>\n",
       "    <tr>\n",
       "      <th>Joá</th>\n",
       "      <td>16351.60</td>\n",
       "      <td>1770.67</td>\n",
       "    </tr>\n",
       "    <tr>\n",
       "      <th>Manguinhos</th>\n",
       "      <td>7312.50</td>\n",
       "      <td>NaN</td>\n",
       "    </tr>\n",
       "    <tr>\n",
       "      <th>Praia da Bandeira</th>\n",
       "      <td>1300.00</td>\n",
       "      <td>390.00</td>\n",
       "    </tr>\n",
       "    <tr>\n",
       "      <th>Saúde</th>\n",
       "      <td>36083.62</td>\n",
       "      <td>1373.47</td>\n",
       "    </tr>\n",
       "  </tbody>\n",
       "</table>\n",
       "</div>"
      ],
      "text/plain": [
       "                      Valor  Condominio\n",
       "Bairro                                 \n",
       "Cascadura           1133.18      307.91\n",
       "Centro             19004.97     5247.40\n",
       "Copacabana          4509.83     1211.94\n",
       "Joá                16351.60     1770.67\n",
       "Manguinhos          7312.50         NaN\n",
       "Praia da Bandeira   1300.00      390.00\n",
       "Saúde              36083.62     1373.47"
      ]
     },
     "execution_count": 15,
     "metadata": {},
     "output_type": "execute_result"
    }
   ],
   "source": [
    "grupo_bairro[['Valor', 'Condominio']].mean().round(2)"
   ]
  },
  {
   "attachments": {},
   "cell_type": "markdown",
   "metadata": {},
   "source": [
    "## Estatisticas Descritivas"
   ]
  },
  {
   "cell_type": "code",
   "execution_count": 16,
   "metadata": {},
   "outputs": [
    {
     "data": {
      "text/html": [
       "<div>\n",
       "<style scoped>\n",
       "    .dataframe tbody tr th:only-of-type {\n",
       "        vertical-align: middle;\n",
       "    }\n",
       "\n",
       "    .dataframe tbody tr th {\n",
       "        vertical-align: top;\n",
       "    }\n",
       "\n",
       "    .dataframe thead th {\n",
       "        text-align: right;\n",
       "    }\n",
       "</style>\n",
       "<table border=\"1\" class=\"dataframe\">\n",
       "  <thead>\n",
       "    <tr style=\"text-align: right;\">\n",
       "      <th></th>\n",
       "      <th>count</th>\n",
       "      <th>mean</th>\n",
       "      <th>std</th>\n",
       "      <th>min</th>\n",
       "      <th>25%</th>\n",
       "      <th>50%</th>\n",
       "      <th>75%</th>\n",
       "      <th>max</th>\n",
       "    </tr>\n",
       "    <tr>\n",
       "      <th>Bairro</th>\n",
       "      <th></th>\n",
       "      <th></th>\n",
       "      <th></th>\n",
       "      <th></th>\n",
       "      <th></th>\n",
       "      <th></th>\n",
       "      <th></th>\n",
       "      <th></th>\n",
       "    </tr>\n",
       "  </thead>\n",
       "  <tbody>\n",
       "    <tr>\n",
       "      <th>Cascadura</th>\n",
       "      <td>44.0</td>\n",
       "      <td>1133.18</td>\n",
       "      <td>551.86</td>\n",
       "      <td>600.0</td>\n",
       "      <td>795.0</td>\n",
       "      <td>1000.0</td>\n",
       "      <td>1250.0</td>\n",
       "      <td>3500.0</td>\n",
       "    </tr>\n",
       "    <tr>\n",
       "      <th>Centro</th>\n",
       "      <td>3258.0</td>\n",
       "      <td>19004.97</td>\n",
       "      <td>59355.76</td>\n",
       "      <td>90.0</td>\n",
       "      <td>1000.0</td>\n",
       "      <td>3705.5</td>\n",
       "      <td>15000.0</td>\n",
       "      <td>950000.0</td>\n",
       "    </tr>\n",
       "    <tr>\n",
       "      <th>Copacabana</th>\n",
       "      <td>3185.0</td>\n",
       "      <td>4509.83</td>\n",
       "      <td>6413.41</td>\n",
       "      <td>100.0</td>\n",
       "      <td>1900.0</td>\n",
       "      <td>3000.0</td>\n",
       "      <td>4900.0</td>\n",
       "      <td>198000.0</td>\n",
       "    </tr>\n",
       "    <tr>\n",
       "      <th>Joá</th>\n",
       "      <td>25.0</td>\n",
       "      <td>16351.60</td>\n",
       "      <td>10358.47</td>\n",
       "      <td>6500.0</td>\n",
       "      <td>7500.0</td>\n",
       "      <td>15000.0</td>\n",
       "      <td>25000.0</td>\n",
       "      <td>45000.0</td>\n",
       "    </tr>\n",
       "    <tr>\n",
       "      <th>Manguinhos</th>\n",
       "      <td>8.0</td>\n",
       "      <td>7312.50</td>\n",
       "      <td>3473.75</td>\n",
       "      <td>4000.0</td>\n",
       "      <td>5500.0</td>\n",
       "      <td>6750.0</td>\n",
       "      <td>8000.0</td>\n",
       "      <td>15000.0</td>\n",
       "    </tr>\n",
       "    <tr>\n",
       "      <th>Praia da Bandeira</th>\n",
       "      <td>2.0</td>\n",
       "      <td>1300.00</td>\n",
       "      <td>141.42</td>\n",
       "      <td>1200.0</td>\n",
       "      <td>1250.0</td>\n",
       "      <td>1300.0</td>\n",
       "      <td>1350.0</td>\n",
       "      <td>1400.0</td>\n",
       "    </tr>\n",
       "    <tr>\n",
       "      <th>Saúde</th>\n",
       "      <td>26.0</td>\n",
       "      <td>36083.62</td>\n",
       "      <td>78362.29</td>\n",
       "      <td>250.0</td>\n",
       "      <td>1400.0</td>\n",
       "      <td>4250.0</td>\n",
       "      <td>27250.0</td>\n",
       "      <td>368474.0</td>\n",
       "    </tr>\n",
       "  </tbody>\n",
       "</table>\n",
       "</div>"
      ],
      "text/plain": [
       "                    count      mean       std     min     25%      50%  \\\n",
       "Bairro                                                                   \n",
       "Cascadura            44.0   1133.18    551.86   600.0   795.0   1000.0   \n",
       "Centro             3258.0  19004.97  59355.76    90.0  1000.0   3705.5   \n",
       "Copacabana         3185.0   4509.83   6413.41   100.0  1900.0   3000.0   \n",
       "Joá                  25.0  16351.60  10358.47  6500.0  7500.0  15000.0   \n",
       "Manguinhos            8.0   7312.50   3473.75  4000.0  5500.0   6750.0   \n",
       "Praia da Bandeira     2.0   1300.00    141.42  1200.0  1250.0   1300.0   \n",
       "Saúde                26.0  36083.62  78362.29   250.0  1400.0   4250.0   \n",
       "\n",
       "                       75%       max  \n",
       "Bairro                                \n",
       "Cascadura           1250.0    3500.0  \n",
       "Centro             15000.0  950000.0  \n",
       "Copacabana          4900.0  198000.0  \n",
       "Joá                25000.0   45000.0  \n",
       "Manguinhos          8000.0   15000.0  \n",
       "Praia da Bandeira   1350.0    1400.0  \n",
       "Saúde              27250.0  368474.0  "
      ]
     },
     "execution_count": 16,
     "metadata": {},
     "output_type": "execute_result"
    }
   ],
   "source": [
    "grupo_bairro['Valor'].describe().round(2)"
   ]
  },
  {
   "cell_type": "code",
   "execution_count": 17,
   "metadata": {},
   "outputs": [
    {
     "data": {
      "text/html": [
       "<div>\n",
       "<style scoped>\n",
       "    .dataframe tbody tr th:only-of-type {\n",
       "        vertical-align: middle;\n",
       "    }\n",
       "\n",
       "    .dataframe tbody tr th {\n",
       "        vertical-align: top;\n",
       "    }\n",
       "\n",
       "    .dataframe thead th {\n",
       "        text-align: right;\n",
       "    }\n",
       "</style>\n",
       "<table border=\"1\" class=\"dataframe\">\n",
       "  <thead>\n",
       "    <tr style=\"text-align: right;\">\n",
       "      <th></th>\n",
       "      <th>min</th>\n",
       "      <th>max</th>\n",
       "      <th>sum</th>\n",
       "    </tr>\n",
       "    <tr>\n",
       "      <th>Bairro</th>\n",
       "      <th></th>\n",
       "      <th></th>\n",
       "      <th></th>\n",
       "    </tr>\n",
       "  </thead>\n",
       "  <tbody>\n",
       "    <tr>\n",
       "      <th>Cascadura</th>\n",
       "      <td>600.0</td>\n",
       "      <td>3500.0</td>\n",
       "      <td>49860.0</td>\n",
       "    </tr>\n",
       "    <tr>\n",
       "      <th>Centro</th>\n",
       "      <td>90.0</td>\n",
       "      <td>950000.0</td>\n",
       "      <td>61918200.0</td>\n",
       "    </tr>\n",
       "    <tr>\n",
       "      <th>Copacabana</th>\n",
       "      <td>100.0</td>\n",
       "      <td>198000.0</td>\n",
       "      <td>14363823.0</td>\n",
       "    </tr>\n",
       "    <tr>\n",
       "      <th>Joá</th>\n",
       "      <td>6500.0</td>\n",
       "      <td>45000.0</td>\n",
       "      <td>408790.0</td>\n",
       "    </tr>\n",
       "    <tr>\n",
       "      <th>Manguinhos</th>\n",
       "      <td>4000.0</td>\n",
       "      <td>15000.0</td>\n",
       "      <td>58500.0</td>\n",
       "    </tr>\n",
       "    <tr>\n",
       "      <th>Praia da Bandeira</th>\n",
       "      <td>1200.0</td>\n",
       "      <td>1400.0</td>\n",
       "      <td>2600.0</td>\n",
       "    </tr>\n",
       "    <tr>\n",
       "      <th>Saúde</th>\n",
       "      <td>250.0</td>\n",
       "      <td>368474.0</td>\n",
       "      <td>938174.0</td>\n",
       "    </tr>\n",
       "  </tbody>\n",
       "</table>\n",
       "</div>"
      ],
      "text/plain": [
       "                      min       max         sum\n",
       "Bairro                                         \n",
       "Cascadura           600.0    3500.0     49860.0\n",
       "Centro               90.0  950000.0  61918200.0\n",
       "Copacabana          100.0  198000.0  14363823.0\n",
       "Joá                6500.0   45000.0    408790.0\n",
       "Manguinhos         4000.0   15000.0     58500.0\n",
       "Praia da Bandeira  1200.0    1400.0      2600.0\n",
       "Saúde               250.0  368474.0    938174.0"
      ]
     },
     "execution_count": 17,
     "metadata": {},
     "output_type": "execute_result"
    }
   ],
   "source": [
    "grupo_bairro['Valor'].aggregate(['min', 'max', 'sum'])"
   ]
  },
  {
   "cell_type": "code",
   "execution_count": 20,
   "metadata": {},
   "outputs": [],
   "source": [
    "%matplotlib inline\n",
    "import matplotlib.pyplot as plt\n",
    "plt.rc('figure', figsize = (20,10))"
   ]
  },
  {
   "cell_type": "code",
   "execution_count": 22,
   "metadata": {},
   "outputs": [
    {
     "data": {
      "text/plain": [
       "Text(0.5, 1.0, 'Valor Medio do Aluguel por Bairro')"
      ]
     },
     "execution_count": 22,
     "metadata": {},
     "output_type": "execute_result"
    },
    {
     "data": {
      "image/png": "[encoded data removed]",
      "text/plain": [
       "<Figure size 2000x1000 with 1 Axes>"
      ]
     },
     "metadata": {},
     "output_type": "display_data"
    }
   ],
   "source": [
    "fig = grupo_bairro['Valor'].std().plot.bar(color='blue')\n",
    "fig.set_ylabel('Valor do Aluguel')\n",
    "fig.set_title('Valor Medio do Aluguel por Bairro', {'fontsize': 22})"
   ]
  },
  {
   "cell_type": "code",
   "execution_count": null,
   "metadata": {},
   "outputs": [],
   "source": []
  }
 ],
 "metadata": {
  "kernelspec": {
   "display_name": "Python 3",
   "language": "python",
   "name": "python3"
  },
  "language_info": {
   "codemirror_mode": {
    "name": "ipython",
    "version": 3
   },
   "file_extension": ".py",
   "mimetype": "text/x-python",
   "name": "python",
   "nbconvert_exporter": "python",
   "pygments_lexer": "ipython3",
   "version": "3.11.1"
  },
  "orig_nbformat": 4,
  "vscode": {
   "interpreter": {
    "hash": "608fb9b59220e59e21daae5b5534a748596807308c8c16d29238015f7166c8c5"
   }
  }
 },
 "nbformat": 4,
 "nbformat_minor": 2
}
